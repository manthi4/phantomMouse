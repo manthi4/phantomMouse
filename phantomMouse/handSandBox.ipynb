{
 "cells": [
  {
   "cell_type": "code",
   "execution_count": 3,
   "source": [
    "\r\n",
    "import mediapipe as mp\r\n",
    "import cv2\r\n",
    "import pyautogui\r\n",
    "import time\r\n",
    "import numpy as np\r\n",
    "\r\n",
    "\r\n",
    "mp_drawing = mp.solutions.drawing_utils #helps to render the landmarks\r\n",
    "mp_hands = mp.solutions.hands"
   ],
   "outputs": [],
   "metadata": {}
  },
  {
   "cell_type": "code",
   "execution_count": 4,
   "source": [
    "cap = cv2.VideoCapture(0)\r\n",
    "# You can setup your camera settings\r\n",
    "cap.set(3,1920)\r\n",
    "cap.set(4,1080)"
   ],
   "outputs": [
    {
     "output_type": "execute_result",
     "data": {
      "text/plain": [
       "True"
      ]
     },
     "metadata": {},
     "execution_count": 4
    }
   ],
   "metadata": {}
  },
  {
   "cell_type": "code",
   "execution_count": 5,
   "source": [
    "while cap.isOpened():\r\n",
    "    re, frame = cap.read()\r\n",
    "    image = cv2.cvtColor(frame,cv2.COLOR_BGR2RGB)\r\n",
    "    print(image[:,:,0].shape)\r\n",
    "    # cap.release()\r\n",
    "\r\n",
    "\r\n",
    "cap.release()\r\n"
   ],
   "outputs": [
    {
     "output_type": "stream",
     "name": "stdout",
     "text": [
      "(720, 1280)\n",
      "(720, 1280)\n",
      "(720, 1280)\n",
      "(720, 1280)\n",
      "(720, 1280)\n",
      "(720, 1280)\n",
      "(720, 1280)\n",
      "(720, 1280)\n",
      "(720, 1280)\n",
      "(720, 1280)\n",
      "(720, 1280)\n",
      "(720, 1280)\n",
      "(720, 1280)\n",
      "(720, 1280)\n",
      "(720, 1280)\n",
      "(720, 1280)\n",
      "(720, 1280)\n",
      "(720, 1280)\n",
      "(720, 1280)\n",
      "(720, 1280)\n",
      "(720, 1280)\n",
      "(720, 1280)\n",
      "(720, 1280)\n",
      "(720, 1280)\n",
      "(720, 1280)\n",
      "(720, 1280)\n",
      "(720, 1280)\n",
      "(720, 1280)\n",
      "(720, 1280)\n",
      "(720, 1280)\n",
      "(720, 1280)\n",
      "(720, 1280)\n",
      "(720, 1280)\n",
      "(720, 1280)\n",
      "(720, 1280)\n",
      "(720, 1280)\n",
      "(720, 1280)\n",
      "(720, 1280)\n",
      "(720, 1280)\n",
      "(720, 1280)\n",
      "(720, 1280)\n",
      "(720, 1280)\n",
      "(720, 1280)\n",
      "(720, 1280)\n",
      "(720, 1280)\n",
      "(720, 1280)\n",
      "(720, 1280)\n",
      "(720, 1280)\n",
      "(720, 1280)\n",
      "(720, 1280)\n",
      "(720, 1280)\n",
      "(720, 1280)\n",
      "(720, 1280)\n",
      "(720, 1280)\n",
      "(720, 1280)\n",
      "(720, 1280)\n",
      "(720, 1280)\n",
      "(720, 1280)\n",
      "(720, 1280)\n",
      "(720, 1280)\n",
      "(720, 1280)\n",
      "(720, 1280)\n",
      "(720, 1280)\n",
      "(720, 1280)\n",
      "(720, 1280)\n",
      "(720, 1280)\n",
      "(720, 1280)\n",
      "(720, 1280)\n",
      "(720, 1280)\n",
      "(720, 1280)\n",
      "(720, 1280)\n",
      "(720, 1280)\n",
      "(720, 1280)\n",
      "(720, 1280)\n",
      "(720, 1280)\n",
      "(720, 1280)\n",
      "(720, 1280)\n",
      "(720, 1280)\n",
      "(720, 1280)\n",
      "(720, 1280)\n",
      "(720, 1280)\n",
      "(720, 1280)\n",
      "(720, 1280)\n",
      "(720, 1280)\n",
      "(720, 1280)\n",
      "(720, 1280)\n"
     ]
    },
    {
     "output_type": "error",
     "ename": "KeyboardInterrupt",
     "evalue": "",
     "traceback": [
      "\u001b[1;31m---------------------------------------------------------------------------\u001b[0m",
      "\u001b[1;31mKeyboardInterrupt\u001b[0m                         Traceback (most recent call last)",
      "\u001b[1;32m~\\AppData\\Local\\Temp/ipykernel_29328/2626936239.py\u001b[0m in \u001b[0;36m<module>\u001b[1;34m\u001b[0m\n\u001b[0;32m      1\u001b[0m \u001b[1;32mwhile\u001b[0m \u001b[0mcap\u001b[0m\u001b[1;33m.\u001b[0m\u001b[0misOpened\u001b[0m\u001b[1;33m(\u001b[0m\u001b[1;33m)\u001b[0m\u001b[1;33m:\u001b[0m\u001b[1;33m\u001b[0m\u001b[1;33m\u001b[0m\u001b[0m\n\u001b[1;32m----> 2\u001b[1;33m     \u001b[0mre\u001b[0m\u001b[1;33m,\u001b[0m \u001b[0mframe\u001b[0m \u001b[1;33m=\u001b[0m \u001b[0mcap\u001b[0m\u001b[1;33m.\u001b[0m\u001b[0mread\u001b[0m\u001b[1;33m(\u001b[0m\u001b[1;33m)\u001b[0m\u001b[1;33m\u001b[0m\u001b[1;33m\u001b[0m\u001b[0m\n\u001b[0m\u001b[0;32m      3\u001b[0m     \u001b[0mimage\u001b[0m \u001b[1;33m=\u001b[0m \u001b[0mcv2\u001b[0m\u001b[1;33m.\u001b[0m\u001b[0mcvtColor\u001b[0m\u001b[1;33m(\u001b[0m\u001b[0mframe\u001b[0m\u001b[1;33m,\u001b[0m\u001b[0mcv2\u001b[0m\u001b[1;33m.\u001b[0m\u001b[0mCOLOR_BGR2RGB\u001b[0m\u001b[1;33m)\u001b[0m\u001b[1;33m\u001b[0m\u001b[1;33m\u001b[0m\u001b[0m\n\u001b[0;32m      4\u001b[0m     \u001b[0mprint\u001b[0m\u001b[1;33m(\u001b[0m\u001b[0mimage\u001b[0m\u001b[1;33m[\u001b[0m\u001b[1;33m:\u001b[0m\u001b[1;33m,\u001b[0m\u001b[1;33m:\u001b[0m\u001b[1;33m,\u001b[0m\u001b[1;36m0\u001b[0m\u001b[1;33m]\u001b[0m\u001b[1;33m.\u001b[0m\u001b[0mshape\u001b[0m\u001b[1;33m)\u001b[0m\u001b[1;33m\u001b[0m\u001b[1;33m\u001b[0m\u001b[0m\n\u001b[0;32m      5\u001b[0m     \u001b[1;31m# cap.release()\u001b[0m\u001b[1;33m\u001b[0m\u001b[1;33m\u001b[0m\u001b[1;33m\u001b[0m\u001b[0m\n",
      "\u001b[1;31mKeyboardInterrupt\u001b[0m: "
     ]
    }
   ],
   "metadata": {}
  },
  {
   "cell_type": "code",
   "execution_count": 7,
   "source": [
    "print(\"hi\")"
   ],
   "outputs": [
    {
     "output_type": "stream",
     "name": "stdout",
     "text": [
      "hi\n"
     ]
    }
   ],
   "metadata": {}
  },
  {
   "cell_type": "code",
   "execution_count": 11,
   "source": [
    "results = []\r\n",
    "\r\n",
    "def rotate_hue(val, deg):\r\n",
    "    return (val + deg) % 180\r\n",
    "\r\n",
    "def nothing(x):\r\n",
    "    pass\r\n",
    "\r\n",
    "with mp_hands.Hands(min_detection_confidence=0.2 , min_tracking_confidence=0.5, max_num_hands=1) as hands:\r\n",
    "\r\n",
    "    cv2.namedWindow('image')\r\n",
    "    cv2.createTrackbar('a','image',0,255,nothing)\r\n",
    "    while cap.isOpened():\r\n",
    "\r\n",
    "\r\n",
    "\r\n",
    "        re, frame = cap.read()\r\n",
    "\r\n",
    "        # start the detection\r\n",
    "        # ===================\r\n",
    "\r\n",
    "        # convert the image to RGB\r\n",
    "        image = cv2.cvtColor(frame,cv2.COLOR_BGR2RGB)\r\n",
    "        red  = image[:, :, 0]\r\n",
    "        green  = image[:, :, 1]\r\n",
    "        blue = image[:, :, 2]\r\n",
    "        # image[:, :, 0] = .5*image[:, :, 0] + .5*green\r\n",
    "        # image[:, :, 1] = green\r\n",
    "        # image[:, :, 2] = green\r\n",
    "\r\n",
    "        hsv_frame = cv2.cvtColor(image, cv2.COLOR_BGR2HSV)\r\n",
    "        angle = cv2.getTrackbarPos('a','image')\r\n",
    "        hsv_frame[:, :, 0] = rotate_hue(hsv_frame[:, :, 0], angle)\r\n",
    "        hsv_frame = np.array(hsv_frame, dtype=np.uint8)\r\n",
    "        image = cv2.cvtColor(hsv_frame, cv2.COLOR_HSV2BGR)\r\n",
    "\r\n",
    "        # flip the image\r\n",
    "        image = cv2.flip(image,1)\r\n",
    "\r\n",
    "        image.flags.writeable = False\r\n",
    "\r\n",
    "        # this is the main process\r\n",
    "        results = hands.process(image)\r\n",
    "\r\n",
    "        image.flags.writeable = True\r\n",
    "\r\n",
    "        # print the results\r\n",
    "        #print(results.multi_hand_landmarks)\r\n",
    "\r\n",
    "        if results.multi_hand_landmarks:\r\n",
    "\r\n",
    "  \r\n",
    "            # lets change the colors and the dots and joits\r\n",
    "            for num, hand in enumerate(results.multi_hand_landmarks):\r\n",
    "                mp_drawing.draw_landmarks(image,hand,mp_hands.HAND_CONNECTIONS,\r\n",
    "                mp_drawing.DrawingSpec(color=(255,0,0),thickness=2 , circle_radius=4),\r\n",
    "                mp_drawing.DrawingSpec(color=(0,255,255),thickness=2 , circle_radius=2))\r\n",
    "            \r\n",
    "            pointer_x = results.multi_hand_landmarks[0].landmark[mp_hands.HandLandmark.INDEX_FINGER_TIP].x\r\n",
    "            pointer_y = results.multi_hand_landmarks[0].landmark[mp_hands.HandLandmark.INDEX_FINGER_TIP].y\r\n",
    "            pointer_z = results.multi_hand_landmarks[0].landmark[mp_hands.HandLandmark.INDEX_FINGER_TIP].z\r\n",
    "\r\n",
    "            pointerMCP_x = results.multi_hand_landmarks[0].landmark[mp_hands.HandLandmark.INDEX_FINGER_MCP].x\r\n",
    "            pointerMCP_y = results.multi_hand_landmarks[0].landmark[mp_hands.HandLandmark.INDEX_FINGER_MCP].y\r\n",
    "            pointerMCP_z = results.multi_hand_landmarks[0].landmark[mp_hands.HandLandmark.INDEX_FINGER_MCP].z\r\n",
    "\r\n",
    "            pinkyMCP_x = results.multi_hand_landmarks[0].landmark[mp_hands.HandLandmark.PINKY_MCP].x\r\n",
    "            pinkyMCP_y = results.multi_hand_landmarks[0].landmark[mp_hands.HandLandmark.PINKY_MCP].y\r\n",
    "            pinkyMCP_z = results.multi_hand_landmarks[0].landmark[mp_hands.HandLandmark.PINKY_MCP].z\r\n",
    "\r\n",
    "\r\n",
    "            cv2.putText(image, \"pointer_tip\", (20,50), cv2.FONT_HERSHEY_SIMPLEX, 1, (300, 50, 50), 2)\r\n",
    "            cv2.putText(image, \"X: \"+str(pointer_x)[:4], (40,80), cv2.FONT_HERSHEY_SIMPLEX, .8, (300, 50, 50))\r\n",
    "            cv2.putText(image, \"Y: \"+str(pointer_y)[:4], (40,105), cv2.FONT_HERSHEY_SIMPLEX, .8, (300, 50, 50))\r\n",
    "            cv2.putText(image, \"Z: \"+str(pointer_z)[:4], (40,130), cv2.FONT_HERSHEY_SIMPLEX, .8, (300, 50, 50))\r\n",
    "\r\n",
    "            cv2.putText(image, \"pointer_mcp\", (220,50), cv2.FONT_HERSHEY_SIMPLEX, 1, (30, 200, 50), 2)\r\n",
    "            cv2.putText(image, \"X: \"+str(pointerMCP_x)[:4], (240,80), cv2.FONT_HERSHEY_SIMPLEX, .8, (30, 100, 50))\r\n",
    "            cv2.putText(image, \"Y: \"+str(pointerMCP_y)[:4], (240,105), cv2.FONT_HERSHEY_SIMPLEX, .8, (30, 100, 50))\r\n",
    "            cv2.putText(image, \"Z: \"+str(pointerMCP_z)[:7], (240,130), cv2.FONT_HERSHEY_SIMPLEX, .8, (30, 100, 50))\r\n",
    "\r\n",
    "            cv2.putText(image, \"pinky_mcp\", (420,50), cv2.FONT_HERSHEY_SIMPLEX, 1, (30, 20, 500), 2)\r\n",
    "            cv2.putText(image, \"X: \"+str(pinkyMCP_x)[:4], (440,80), cv2.FONT_HERSHEY_SIMPLEX, .8, (30, 10, 500))\r\n",
    "            cv2.putText(image, \"Y: \"+str(pinkyMCP_y)[:4], (440,105), cv2.FONT_HERSHEY_SIMPLEX, .8, (30, 10, 500))\r\n",
    "            cv2.putText(image, \"Z: \"+str(pinkyMCP_z)[:7], (440,130), cv2.FONT_HERSHEY_SIMPLEX, .8, (30, 10, 500))\r\n",
    "\r\n",
    "            move = \"center\"\r\n",
    "            if pointer_x > .7:\r\n",
    "                move = \"right\"\r\n",
    "                pyautogui.moveRel(-10-500*(.3 - pointer_y), 0)\r\n",
    "            if pointer_x < .3:\r\n",
    "                move = \"left\"\r\n",
    "                pyautogui.moveRel(10+500*(pointer_y-.7), 0)\r\n",
    "            if pointer_y > .5:\r\n",
    "                move = \"down\"\r\n",
    "                pyautogui.moveRel(0, 5+100*(pointer_y-.5))\r\n",
    "            if pointer_y < .3:\r\n",
    "                move = \"up\"\r\n",
    "                pyautogui.moveRel(0, -5-100*(.3 - pointer_y))\r\n",
    "\r\n",
    "            cv2.putText(image, move, (50,160), cv2.FONT_HERSHEY_SIMPLEX, 1, 2)\r\n",
    "\r\n",
    "            \r\n",
    "            if pointer_y > pointerMCP_y:\r\n",
    "                # pyautogui.click()\r\n",
    "                pyautogui.mouseDown()\r\n",
    "                cv2.putText(image, \"clicked\", (50,175), cv2.FONT_HERSHEY_SIMPLEX, 1, 2)\r\n",
    "            else:\r\n",
    "                pyautogui.mouseUp()\r\n",
    "\r\n",
    "            # if pinkyMCP_z < pointerMCP_z - .0:\r\n",
    "            #     cv2.destroyAllWindows()\r\n",
    "            #     break\r\n",
    "\r\n",
    "\r\n",
    "\r\n",
    "\r\n",
    "\r\n",
    "        # recolor back the image to BGR\r\n",
    "        image = cv2.cvtColor(image,cv2.COLOR_RGB2BGR)\r\n",
    "        cv2.imshow('image',image)\r\n",
    "\r\n",
    "        if cv2.waitKey(10) & 0xff == ord('q'):\r\n",
    "            print(results)\r\n",
    "            break\r\n",
    "        \r\n",
    "# cap.release()\r\n",
    "cv2.destroyAllWindows()"
   ],
   "outputs": [
    {
     "output_type": "stream",
     "name": "stdout",
     "text": [
      "<class 'mediapipe.python.solution_base.SolutionOutputs'>\n"
     ]
    }
   ],
   "metadata": {}
  },
  {
   "cell_type": "code",
   "execution_count": 18,
   "source": [
    "results.multi_hand_landmarks[0].landmark[mp_hands.HandLandmark.INDEX_FINGER_TIP]\r\n"
   ],
   "outputs": [
    {
     "output_type": "error",
     "ename": "TypeError",
     "evalue": "'NoneType' object is not subscriptable",
     "traceback": [
      "\u001b[1;31m---------------------------------------------------------------------------\u001b[0m",
      "\u001b[1;31mTypeError\u001b[0m                                 Traceback (most recent call last)",
      "\u001b[1;32m~\\AppData\\Local\\Temp/ipykernel_14852/3675251222.py\u001b[0m in \u001b[0;36m<module>\u001b[1;34m\u001b[0m\n\u001b[1;32m----> 1\u001b[1;33m \u001b[0mresults\u001b[0m\u001b[1;33m.\u001b[0m\u001b[0mmulti_hand_landmarks\u001b[0m\u001b[1;33m[\u001b[0m\u001b[1;36m0\u001b[0m\u001b[1;33m]\u001b[0m\u001b[1;33m.\u001b[0m\u001b[0mlandmark\u001b[0m\u001b[1;33m[\u001b[0m\u001b[0mmp_hands\u001b[0m\u001b[1;33m.\u001b[0m\u001b[0mHandLandmark\u001b[0m\u001b[1;33m.\u001b[0m\u001b[0mINDEX_FINGER_TIP\u001b[0m\u001b[1;33m]\u001b[0m\u001b[1;33m\u001b[0m\u001b[1;33m\u001b[0m\u001b[0m\n\u001b[0m",
      "\u001b[1;31mTypeError\u001b[0m: 'NoneType' object is not subscriptable"
     ]
    }
   ],
   "metadata": {}
  },
  {
   "cell_type": "code",
   "execution_count": 11,
   "source": [
    "cap.release()\r\n",
    "cv2.destroyAllWindows()"
   ],
   "outputs": [],
   "metadata": {}
  }
 ],
 "metadata": {
  "orig_nbformat": 4,
  "language_info": {
   "name": "python",
   "version": "3.9.1",
   "mimetype": "text/x-python",
   "codemirror_mode": {
    "name": "ipython",
    "version": 3
   },
   "pygments_lexer": "ipython3",
   "nbconvert_exporter": "python",
   "file_extension": ".py"
  },
  "kernelspec": {
   "name": "python3",
   "display_name": "Python 3.9.1 64-bit ('newEnv': venv)"
  },
  "interpreter": {
   "hash": "03aa8cb6e75308ec618654a8bf662678f5ad378c5e6ee74981a15ed447b1c1a7"
  }
 },
 "nbformat": 4,
 "nbformat_minor": 2
}